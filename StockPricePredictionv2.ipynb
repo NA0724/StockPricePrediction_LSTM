{
  "nbformat": 4,
  "nbformat_minor": 0,
  "metadata": {
    "colab": {
      "provenance": [],
      "authorship_tag": "ABX9TyMGtxL+o14oIDK4XpRhLypz",
      "include_colab_link": true
    },
    "kernelspec": {
      "name": "python3",
      "display_name": "Python 3"
    },
    "language_info": {
      "name": "python"
    }
  },
  "cells": [
    {
      "cell_type": "markdown",
      "metadata": {
        "id": "view-in-github",
        "colab_type": "text"
      },
      "source": [
        "<a href=\"https://colab.research.google.com/github/NA0724/StockPricePrediction_LSTM/blob/main/StockPricePredictionv2.ipynb\" target=\"_parent\"><img src=\"https://colab.research.google.com/assets/colab-badge.svg\" alt=\"Open In Colab\"/></a>"
      ]
    },
    {
      "cell_type": "code",
      "source": [
        "!pip install preprocessing\n",
        "!pip install numpy "
      ],
      "metadata": {
        "id": "RKIMH65DoPaq"
      },
      "execution_count": null,
      "outputs": []
    },
    {
      "cell_type": "code",
      "execution_count": 14,
      "metadata": {
        "id": "hT9d8sGPnE4G"
      },
      "outputs": [],
      "source": [
        "import pandas as pd\n",
        "import matplotlib.pyplot as plt\n",
        "import numpy as np \n",
        "import math\n",
        "from sklearn.preprocessing import MinMaxScaler\n",
        "from sklearn.metrics import mean_squared_error\n",
        "from keras.models import Sequential\n",
        "from keras.layers import Dense, Activation\n",
        "from keras.layers import LSTM\n",
        "import preprocessing "
      ]
    },
    {
      "cell_type": "code",
      "source": [
        "#from google.colab import drive\n",
        "#drive.mount('/content/drive')\n",
        "#dataset=pd.read_csv('drive/My Drive/apple_share_price.csv')\n",
        "dataset=pd.read_csv('apple_share_price.csv')\n",
        "dataset = dataset.reindex(index = dataset.index[::-1])\n",
        "dataset"
      ],
      "metadata": {
        "colab": {
          "base_uri": "https://localhost:8080/",
          "height": 441
        },
        "id": "RPfMt1jsodKT",
        "outputId": "000793b3-ebef-4555-8ec0-d5e08dee9a97"
      },
      "execution_count": 27,
      "outputs": [
        {
          "output_type": "stream",
          "name": "stdout",
          "text": [
            "Mounted at /content/drive\n"
          ]
        },
        {
          "output_type": "execute_result",
          "data": {
            "text/plain": [
              "           Date    Open    High     Low   Close     Volume\n",
              "1663   3-Jan-11   46.52   47.18   46.41   47.08  111280407\n",
              "1662   4-Jan-11   47.49   47.50   46.88   47.33   77337001\n",
              "1661   5-Jan-11   47.08   47.76   47.07   47.71   63879193\n",
              "1660   6-Jan-11   47.82   47.89   47.56   47.68   75106626\n",
              "1659   7-Jan-11   47.71   48.05   47.41   48.02   77982212\n",
              "...         ...     ...     ...     ...     ...        ...\n",
              "4      7-Aug-17  157.06  158.92  156.67  158.81   21870321\n",
              "3      8-Aug-17  158.60  161.83  158.27  160.08   36205896\n",
              "2      9-Aug-17  159.26  161.27  159.11  161.06   26131530\n",
              "1     10-Aug-17  159.90  160.00  154.63  155.32   40804273\n",
              "0     11-Aug-17  156.60  158.57  156.07  157.48   26257096\n",
              "\n",
              "[1664 rows x 6 columns]"
            ],
            "text/html": [
              "\n",
              "  <div id=\"df-5902eff8-0ce0-4093-acd6-7b72c03d1f43\">\n",
              "    <div class=\"colab-df-container\">\n",
              "      <div>\n",
              "<style scoped>\n",
              "    .dataframe tbody tr th:only-of-type {\n",
              "        vertical-align: middle;\n",
              "    }\n",
              "\n",
              "    .dataframe tbody tr th {\n",
              "        vertical-align: top;\n",
              "    }\n",
              "\n",
              "    .dataframe thead th {\n",
              "        text-align: right;\n",
              "    }\n",
              "</style>\n",
              "<table border=\"1\" class=\"dataframe\">\n",
              "  <thead>\n",
              "    <tr style=\"text-align: right;\">\n",
              "      <th></th>\n",
              "      <th>Date</th>\n",
              "      <th>Open</th>\n",
              "      <th>High</th>\n",
              "      <th>Low</th>\n",
              "      <th>Close</th>\n",
              "      <th>Volume</th>\n",
              "    </tr>\n",
              "  </thead>\n",
              "  <tbody>\n",
              "    <tr>\n",
              "      <th>1663</th>\n",
              "      <td>3-Jan-11</td>\n",
              "      <td>46.52</td>\n",
              "      <td>47.18</td>\n",
              "      <td>46.41</td>\n",
              "      <td>47.08</td>\n",
              "      <td>111280407</td>\n",
              "    </tr>\n",
              "    <tr>\n",
              "      <th>1662</th>\n",
              "      <td>4-Jan-11</td>\n",
              "      <td>47.49</td>\n",
              "      <td>47.50</td>\n",
              "      <td>46.88</td>\n",
              "      <td>47.33</td>\n",
              "      <td>77337001</td>\n",
              "    </tr>\n",
              "    <tr>\n",
              "      <th>1661</th>\n",
              "      <td>5-Jan-11</td>\n",
              "      <td>47.08</td>\n",
              "      <td>47.76</td>\n",
              "      <td>47.07</td>\n",
              "      <td>47.71</td>\n",
              "      <td>63879193</td>\n",
              "    </tr>\n",
              "    <tr>\n",
              "      <th>1660</th>\n",
              "      <td>6-Jan-11</td>\n",
              "      <td>47.82</td>\n",
              "      <td>47.89</td>\n",
              "      <td>47.56</td>\n",
              "      <td>47.68</td>\n",
              "      <td>75106626</td>\n",
              "    </tr>\n",
              "    <tr>\n",
              "      <th>1659</th>\n",
              "      <td>7-Jan-11</td>\n",
              "      <td>47.71</td>\n",
              "      <td>48.05</td>\n",
              "      <td>47.41</td>\n",
              "      <td>48.02</td>\n",
              "      <td>77982212</td>\n",
              "    </tr>\n",
              "    <tr>\n",
              "      <th>...</th>\n",
              "      <td>...</td>\n",
              "      <td>...</td>\n",
              "      <td>...</td>\n",
              "      <td>...</td>\n",
              "      <td>...</td>\n",
              "      <td>...</td>\n",
              "    </tr>\n",
              "    <tr>\n",
              "      <th>4</th>\n",
              "      <td>7-Aug-17</td>\n",
              "      <td>157.06</td>\n",
              "      <td>158.92</td>\n",
              "      <td>156.67</td>\n",
              "      <td>158.81</td>\n",
              "      <td>21870321</td>\n",
              "    </tr>\n",
              "    <tr>\n",
              "      <th>3</th>\n",
              "      <td>8-Aug-17</td>\n",
              "      <td>158.60</td>\n",
              "      <td>161.83</td>\n",
              "      <td>158.27</td>\n",
              "      <td>160.08</td>\n",
              "      <td>36205896</td>\n",
              "    </tr>\n",
              "    <tr>\n",
              "      <th>2</th>\n",
              "      <td>9-Aug-17</td>\n",
              "      <td>159.26</td>\n",
              "      <td>161.27</td>\n",
              "      <td>159.11</td>\n",
              "      <td>161.06</td>\n",
              "      <td>26131530</td>\n",
              "    </tr>\n",
              "    <tr>\n",
              "      <th>1</th>\n",
              "      <td>10-Aug-17</td>\n",
              "      <td>159.90</td>\n",
              "      <td>160.00</td>\n",
              "      <td>154.63</td>\n",
              "      <td>155.32</td>\n",
              "      <td>40804273</td>\n",
              "    </tr>\n",
              "    <tr>\n",
              "      <th>0</th>\n",
              "      <td>11-Aug-17</td>\n",
              "      <td>156.60</td>\n",
              "      <td>158.57</td>\n",
              "      <td>156.07</td>\n",
              "      <td>157.48</td>\n",
              "      <td>26257096</td>\n",
              "    </tr>\n",
              "  </tbody>\n",
              "</table>\n",
              "<p>1664 rows × 6 columns</p>\n",
              "</div>\n",
              "      <button class=\"colab-df-convert\" onclick=\"convertToInteractive('df-5902eff8-0ce0-4093-acd6-7b72c03d1f43')\"\n",
              "              title=\"Convert this dataframe to an interactive table.\"\n",
              "              style=\"display:none;\">\n",
              "        \n",
              "  <svg xmlns=\"http://www.w3.org/2000/svg\" height=\"24px\"viewBox=\"0 0 24 24\"\n",
              "       width=\"24px\">\n",
              "    <path d=\"M0 0h24v24H0V0z\" fill=\"none\"/>\n",
              "    <path d=\"M18.56 5.44l.94 2.06.94-2.06 2.06-.94-2.06-.94-.94-2.06-.94 2.06-2.06.94zm-11 1L8.5 8.5l.94-2.06 2.06-.94-2.06-.94L8.5 2.5l-.94 2.06-2.06.94zm10 10l.94 2.06.94-2.06 2.06-.94-2.06-.94-.94-2.06-.94 2.06-2.06.94z\"/><path d=\"M17.41 7.96l-1.37-1.37c-.4-.4-.92-.59-1.43-.59-.52 0-1.04.2-1.43.59L10.3 9.45l-7.72 7.72c-.78.78-.78 2.05 0 2.83L4 21.41c.39.39.9.59 1.41.59.51 0 1.02-.2 1.41-.59l7.78-7.78 2.81-2.81c.8-.78.8-2.07 0-2.86zM5.41 20L4 18.59l7.72-7.72 1.47 1.35L5.41 20z\"/>\n",
              "  </svg>\n",
              "      </button>\n",
              "      \n",
              "  <style>\n",
              "    .colab-df-container {\n",
              "      display:flex;\n",
              "      flex-wrap:wrap;\n",
              "      gap: 12px;\n",
              "    }\n",
              "\n",
              "    .colab-df-convert {\n",
              "      background-color: #E8F0FE;\n",
              "      border: none;\n",
              "      border-radius: 50%;\n",
              "      cursor: pointer;\n",
              "      display: none;\n",
              "      fill: #1967D2;\n",
              "      height: 32px;\n",
              "      padding: 0 0 0 0;\n",
              "      width: 32px;\n",
              "    }\n",
              "\n",
              "    .colab-df-convert:hover {\n",
              "      background-color: #E2EBFA;\n",
              "      box-shadow: 0px 1px 2px rgba(60, 64, 67, 0.3), 0px 1px 3px 1px rgba(60, 64, 67, 0.15);\n",
              "      fill: #174EA6;\n",
              "    }\n",
              "\n",
              "    [theme=dark] .colab-df-convert {\n",
              "      background-color: #3B4455;\n",
              "      fill: #D2E3FC;\n",
              "    }\n",
              "\n",
              "    [theme=dark] .colab-df-convert:hover {\n",
              "      background-color: #434B5C;\n",
              "      box-shadow: 0px 1px 3px 1px rgba(0, 0, 0, 0.15);\n",
              "      filter: drop-shadow(0px 1px 2px rgba(0, 0, 0, 0.3));\n",
              "      fill: #FFFFFF;\n",
              "    }\n",
              "  </style>\n",
              "\n",
              "      <script>\n",
              "        const buttonEl =\n",
              "          document.querySelector('#df-5902eff8-0ce0-4093-acd6-7b72c03d1f43 button.colab-df-convert');\n",
              "        buttonEl.style.display =\n",
              "          google.colab.kernel.accessAllowed ? 'block' : 'none';\n",
              "\n",
              "        async function convertToInteractive(key) {\n",
              "          const element = document.querySelector('#df-5902eff8-0ce0-4093-acd6-7b72c03d1f43');\n",
              "          const dataTable =\n",
              "            await google.colab.kernel.invokeFunction('convertToInteractive',\n",
              "                                                     [key], {});\n",
              "          if (!dataTable) return;\n",
              "\n",
              "          const docLinkHtml = 'Like what you see? Visit the ' +\n",
              "            '<a target=\"_blank\" href=https://colab.research.google.com/notebooks/data_table.ipynb>data table notebook</a>'\n",
              "            + ' to learn more about interactive tables.';\n",
              "          element.innerHTML = '';\n",
              "          dataTable['output_type'] = 'display_data';\n",
              "          await google.colab.output.renderOutput(dataTable, element);\n",
              "          const docLink = document.createElement('div');\n",
              "          docLink.innerHTML = docLinkHtml;\n",
              "          element.appendChild(docLink);\n",
              "        }\n",
              "      </script>\n",
              "    </div>\n",
              "  </div>\n",
              "  "
            ]
          },
          "metadata": {},
          "execution_count": 27
        }
      ]
    },
    {
      "cell_type": "code",
      "source": [
        "obs=np.arange(1, len(dataset)+1, 1)\n",
        "obs"
      ],
      "metadata": {
        "colab": {
          "base_uri": "https://localhost:8080/"
        },
        "id": "4jb_xNbkwBRb",
        "outputId": "f439c260-0cdf-4715-a49c-782cec03faae"
      },
      "execution_count": 18,
      "outputs": [
        {
          "output_type": "execute_result",
          "data": {
            "text/plain": [
              "array([  1,   2,   3,   4,   5,   6,   7,   8,   9,  10,  11,  12,  13,\n",
              "        14,  15,  16,  17,  18,  19,  20,  21,  22,  23,  24,  25,  26,\n",
              "        27,  28,  29,  30,  31,  32,  33,  34,  35,  36,  37,  38,  39,\n",
              "        40,  41,  42,  43,  44,  45,  46,  47,  48,  49,  50,  51,  52,\n",
              "        53,  54,  55,  56,  57,  58,  59,  60,  61,  62,  63,  64,  65,\n",
              "        66,  67,  68,  69,  70,  71,  72,  73,  74,  75,  76,  77,  78,\n",
              "        79,  80,  81,  82,  83,  84,  85,  86,  87,  88,  89,  90,  91,\n",
              "        92,  93,  94,  95,  96,  97,  98,  99, 100, 101, 102, 103, 104,\n",
              "       105, 106, 107, 108, 109, 110, 111, 112, 113, 114, 115, 116, 117,\n",
              "       118])"
            ]
          },
          "metadata": {},
          "execution_count": 18
        }
      ]
    },
    {
      "cell_type": "code",
      "source": [
        "avg=dataset.mean(axis=1)\n",
        "avg2=dataset[['High', 'Low', 'Close']].mean(axis=1)\n",
        "close_val=dataset[['Close']]\n",
        "close_val"
      ],
      "metadata": {
        "id": "SxGtaaL6wtNY"
      },
      "execution_count": null,
      "outputs": []
    },
    {
      "cell_type": "code",
      "source": [
        "plt.figure(figsize=(20,10))\n",
        "plt.plot(avg, 'r', label = 'dataset1')\n",
        "plt.plot(avg2, 'y', label = 'dataset')\n",
        "plt.plot(close_val, 'g', label = 'Closing Price')\n",
        "plt.legend(loc = 'upper right')\n",
        "plt.xlabel('Time in Days')\n",
        "plt.ylabel('Value of Apple Stocks')\n",
        "plt.show()"
      ],
      "metadata": {
        "colab": {
          "base_uri": "https://localhost:8080/",
          "height": 606
        },
        "id": "OUuhc0GwF-s7",
        "outputId": "bb6b5733-a7e4-4062-8b7d-95ab4afdc9c5"
      },
      "execution_count": 79,
      "outputs": [
        {
          "output_type": "display_data",
          "data": {
            "text/plain": [
              "<Figure size 1440x720 with 1 Axes>"
            ],
            "image/png": "[encoded data removed]"
          },
          "metadata": {
            "needs_background": "light"
          }
        }
      ]
    },
    {
      "cell_type": "code",
      "source": [
        "# PREPARATION OF TIME SERIES DATASE\n",
        "avg = np.reshape(avg, (len(avg),1)) # 1664\n",
        "scaler = MinMaxScaler(feature_range=(0, 1))\n",
        "avg = scaler.fit_transform(avg)\n",
        "avg"
      ],
      "metadata": {
        "id": "ZDYCD7dK1T65"
      },
      "execution_count": null,
      "outputs": []
    },
    {
      "cell_type": "code",
      "source": [
        "# TRAIN-TEST SPLIT\n",
        "train_OHLC = int(len(avg) * 0.75)\n",
        "test_OHLC = len(avg) - train_OHLC\n",
        "train_OHLC, test_OHLC = avg[0:train_OHLC,:], avg[train_OHLC:len(avg),:]\n",
        "train_OHLC"
      ],
      "metadata": {
        "id": "EnoRFumi1T_R"
      },
      "execution_count": null,
      "outputs": []
    },
    {
      "cell_type": "code",
      "source": [
        "# FUNCTION TO CREATE 1D DATA INTO TIME SERIES DATASET\n",
        "# THIS FUNCTION CAN BE USED TO CREATE A TIME SERIES DATASET FROM ANY 1D ARRAY\n",
        "# data_X, data_Y = [], []\n",
        "# step_size=1\n",
        "# for i in range(len(dataset)-step_size-1):\n",
        "#   a = dataset.iloc[i:i+step_size, 0]\n",
        "#   data_X.append(a)\n",
        "#   data_Y.append(dataset.iloc[i + step_size, 0])\n",
        "# dataX=np.array(data_X)\n",
        "# dataY=np.array(data_Y)\n",
        "\n",
        "data_X, data_Y = [], []\n",
        "step_size=1\n",
        "for i in range(len(train_OHLC)-step_size-1):\n",
        "  a = train_OHLC[i:i+step_size, 0]\n",
        "  data_X.append(a)\n",
        "  data_Y.append(train_OHLC[i + step_size, 0])\n",
        "trainX=np.array(data_X)\n",
        "trainY=np.array(data_Y)\n",
        "trainX"
      ],
      "metadata": {
        "colab": {
          "base_uri": "https://localhost:8080/"
        },
        "id": "owDOx5we3PpC",
        "outputId": "b0a3746f-d29c-48c2-c1c3-73bffd2d8f01"
      },
      "execution_count": 55,
      "outputs": [
        {
          "output_type": "execute_result",
          "data": {
            "text/plain": [
              "array([[0.21754716],\n",
              "       [0.1435594 ],\n",
              "       [0.11422489],\n",
              "       ...,\n",
              "       [0.03866165],\n",
              "       [0.0771851 ],\n",
              "       [0.11518354]])"
            ]
          },
          "metadata": {},
          "execution_count": 55
        }
      ]
    },
    {
      "cell_type": "code",
      "source": [
        "testdataX, testdataY = [], []\n",
        "for i in range(len(test_OHLC )-step_size-1):\n",
        "  a = test_OHLC [i:i+step_size, 0]\n",
        "  testdataX.append(a)\n",
        "  testdataY.append(test_OHLC [i + step_size, 0])\n",
        "testX=np.array(testdataX)\n",
        "testY=np.array(testdataY)\n",
        "testY"
      ],
      "metadata": {
        "id": "dCB18PhjAo9I"
      },
      "execution_count": null,
      "outputs": []
    },
    {
      "cell_type": "code",
      "source": [
        "#Reshaping training and data sets\n",
        "trainX=np.reshape(trainX, (trainX.shape[0],1,trainX.shape[1]))\n",
        "testX=np.reshape(testX, (testX.shape[0],1,testX.shape[1]))"
      ],
      "metadata": {
        "id": "z9JSxrUaBE4x"
      },
      "execution_count": 59,
      "outputs": []
    },
    {
      "cell_type": "code",
      "source": [
        "#LSTM model\n",
        "model=Sequential()\n",
        "model.add(LSTM(32, input_shape=(1,step_size), return_sequences=True))\n",
        "model.add(LSTM(16))\n",
        "model.add(Dense(1))\n",
        "model.add(Activation('linear'))"
      ],
      "metadata": {
        "id": "TWqBNWqeBoIu"
      },
      "execution_count": 60,
      "outputs": []
    },
    {
      "cell_type": "code",
      "source": [
        "#model compiling and training\n",
        "model.compile(loss='mean_squared_error', optimizer='adagrad')\n",
        "model.fit(trainX, trainY, epochs=5, batch_size=1, verbose=2)\n",
        "#prediction\n",
        "trainPredict=model.predict(trainX)\n",
        "testPredict=model.predict(testX)"
      ],
      "metadata": {
        "colab": {
          "base_uri": "https://localhost:8080/"
        },
        "id": "c2s7vqI7CaCW",
        "outputId": "fed52ea6-0819-4b4f-eee3-477188cfec0d"
      },
      "execution_count": 61,
      "outputs": [
        {
          "output_type": "stream",
          "name": "stdout",
          "text": [
            "Epoch 1/5\n",
            "1246/1246 - 6s - loss: 0.0285 - 6s/epoch - 5ms/step\n",
            "Epoch 2/5\n",
            "1246/1246 - 4s - loss: 0.0190 - 4s/epoch - 3ms/step\n",
            "Epoch 3/5\n",
            "1246/1246 - 3s - loss: 0.0161 - 3s/epoch - 2ms/step\n",
            "Epoch 4/5\n",
            "1246/1246 - 3s - loss: 0.0149 - 3s/epoch - 2ms/step\n",
            "Epoch 5/5\n",
            "1246/1246 - 3s - loss: 0.0143 - 3s/epoch - 2ms/step\n",
            "39/39 [==============================] - 1s 2ms/step\n",
            "13/13 [==============================] - 0s 2ms/step\n"
          ]
        }
      ]
    },
    {
      "cell_type": "code",
      "source": [
        "trainPredict"
      ],
      "metadata": {
        "colab": {
          "base_uri": "https://localhost:8080/"
        },
        "id": "oNfob92YHF4w",
        "outputId": "66bcef09-e6d8-41a1-b9ed-5e75e6a7014c"
      },
      "execution_count": 80,
      "outputs": [
        {
          "output_type": "execute_result",
          "data": {
            "text/plain": [
              "array([[0.1617595 ],\n",
              "       [0.16089556],\n",
              "       [0.16055046],\n",
              "       ...,\n",
              "       [0.15965515],\n",
              "       [0.16011274],\n",
              "       [0.16056177]], dtype=float32)"
            ]
          },
          "metadata": {},
          "execution_count": 80
        }
      ]
    },
    {
      "cell_type": "code",
      "source": [
        "testPredict"
      ],
      "metadata": {
        "colab": {
          "base_uri": "https://localhost:8080/"
        },
        "id": "OzMXMJioHGCF",
        "outputId": "dd615964-c423-4f7c-c9bb-d7c7650637f2"
      },
      "execution_count": 81,
      "outputs": [
        {
          "output_type": "execute_result",
          "data": {
            "text/plain": [
              "array([[0.16005814],\n",
              "       [0.16138327],\n",
              "       [0.16013092],\n",
              "       [0.15974794],\n",
              "       [0.15974452],\n",
              "       [0.15924895],\n",
              "       [0.15959002],\n",
              "       [0.15969975],\n",
              "       [0.1595513 ],\n",
              "       [0.15995832],\n",
              "       [0.16063786],\n",
              "       [0.1603424 ],\n",
              "       [0.16066803],\n",
              "       [0.16099167],\n",
              "       [0.16072807],\n",
              "       [0.16018638],\n",
              "       [0.16017127],\n",
              "       [0.16049562],\n",
              "       [0.16051307],\n",
              "       [0.16093837],\n",
              "       [0.1602664 ],\n",
              "       [0.16075909],\n",
              "       [0.1602461 ],\n",
              "       [0.16059372],\n",
              "       [0.16022396],\n",
              "       [0.16054171],\n",
              "       [0.16228777],\n",
              "       [0.16033638],\n",
              "       [0.16055384],\n",
              "       [0.15994951],\n",
              "       [0.15985917],\n",
              "       [0.16007347],\n",
              "       [0.16009665],\n",
              "       [0.16008607],\n",
              "       [0.16029245],\n",
              "       [0.16004497],\n",
              "       [0.1599928 ],\n",
              "       [0.16018501],\n",
              "       [0.15993786],\n",
              "       [0.16012834],\n",
              "       [0.16004825],\n",
              "       [0.15989575],\n",
              "       [0.15979192],\n",
              "       [0.15978058],\n",
              "       [0.15971935],\n",
              "       [0.15983519],\n",
              "       [0.15960793],\n",
              "       [0.15964738],\n",
              "       [0.15980205],\n",
              "       [0.16019708],\n",
              "       [0.1597556 ],\n",
              "       [0.15985167],\n",
              "       [0.16008821],\n",
              "       [0.15982673],\n",
              "       [0.15970865],\n",
              "       [0.15960109],\n",
              "       [0.15976672],\n",
              "       [0.15960291],\n",
              "       [0.15954645],\n",
              "       [0.15993647],\n",
              "       [0.15988019],\n",
              "       [0.15978566],\n",
              "       [0.1600227 ],\n",
              "       [0.15980992],\n",
              "       [0.1597335 ],\n",
              "       [0.1595575 ],\n",
              "       [0.15955824],\n",
              "       [0.15939759],\n",
              "       [0.15969567],\n",
              "       [0.16006814],\n",
              "       [0.15956356],\n",
              "       [0.15956202],\n",
              "       [0.15986335],\n",
              "       [0.1595846 ],\n",
              "       [0.15957296],\n",
              "       [0.15969844],\n",
              "       [0.15950713],\n",
              "       [0.1596318 ],\n",
              "       [0.1595928 ],\n",
              "       [0.15974541],\n",
              "       [0.15955451],\n",
              "       [0.16010064],\n",
              "       [0.1604722 ],\n",
              "       [0.15973505],\n",
              "       [0.15964098],\n",
              "       [0.15971078],\n",
              "       [0.15976578],\n",
              "       [0.15962239],\n",
              "       [0.15994348],\n",
              "       [0.16181663],\n",
              "       [0.16101457],\n",
              "       [0.16066489],\n",
              "       [0.1601347 ],\n",
              "       [0.16036153],\n",
              "       [0.15995605],\n",
              "       [0.15982503],\n",
              "       [0.16002417],\n",
              "       [0.15974966],\n",
              "       [0.15976876],\n",
              "       [0.15963769],\n",
              "       [0.16086416],\n",
              "       [0.16004303],\n",
              "       [0.16048008],\n",
              "       [0.16010295],\n",
              "       [0.15998447],\n",
              "       [0.15966764],\n",
              "       [0.1597224 ],\n",
              "       [0.15987934],\n",
              "       [0.15980619],\n",
              "       [0.15988731],\n",
              "       [0.16035017],\n",
              "       [0.1598371 ],\n",
              "       [0.1599944 ],\n",
              "       [0.15965414],\n",
              "       [0.15993969],\n",
              "       [0.15963677],\n",
              "       [0.15950136],\n",
              "       [0.1594784 ],\n",
              "       [0.15943779],\n",
              "       [0.15958734],\n",
              "       [0.15972002],\n",
              "       [0.15988348],\n",
              "       [0.1597257 ],\n",
              "       [0.15966117],\n",
              "       [0.15971   ],\n",
              "       [0.16047667],\n",
              "       [0.15979001],\n",
              "       [0.1598194 ],\n",
              "       [0.15965532],\n",
              "       [0.1597337 ],\n",
              "       [0.16084372],\n",
              "       [0.16010591],\n",
              "       [0.15994623],\n",
              "       [0.1598449 ],\n",
              "       [0.15982692],\n",
              "       [0.15957242],\n",
              "       [0.15961601],\n",
              "       [0.15970021],\n",
              "       [0.15954937],\n",
              "       [0.15964735],\n",
              "       [0.15951443],\n",
              "       [0.1595241 ],\n",
              "       [0.15956892],\n",
              "       [0.15990674],\n",
              "       [0.15967914],\n",
              "       [0.15984394],\n",
              "       [0.15951404],\n",
              "       [0.1595789 ],\n",
              "       [0.15974568],\n",
              "       [0.15963182],\n",
              "       [0.15994462],\n",
              "       [0.16035396],\n",
              "       [0.16127871],\n",
              "       [0.15993136],\n",
              "       [0.15961674],\n",
              "       [0.1598873 ],\n",
              "       [0.15977457],\n",
              "       [0.15968084],\n",
              "       [0.1596083 ],\n",
              "       [0.15994903],\n",
              "       [0.15962462],\n",
              "       [0.15957992],\n",
              "       [0.15951997],\n",
              "       [0.15961027],\n",
              "       [0.15938085],\n",
              "       [0.15956831],\n",
              "       [0.159774  ],\n",
              "       [0.15955499],\n",
              "       [0.15946734],\n",
              "       [0.15955532],\n",
              "       [0.15956706],\n",
              "       [0.15944844],\n",
              "       [0.1595113 ],\n",
              "       [0.15954798],\n",
              "       [0.1596176 ],\n",
              "       [0.15954497],\n",
              "       [0.1595422 ],\n",
              "       [0.15966682],\n",
              "       [0.15958995],\n",
              "       [0.15958042],\n",
              "       [0.1595946 ],\n",
              "       [0.15999588],\n",
              "       [0.16027054],\n",
              "       [0.16010423],\n",
              "       [0.16007158],\n",
              "       [0.1605067 ],\n",
              "       [0.16178632],\n",
              "       [0.1612346 ],\n",
              "       [0.1609608 ],\n",
              "       [0.16011627],\n",
              "       [0.15979266],\n",
              "       [0.15983123],\n",
              "       [0.15970345],\n",
              "       [0.1602571 ],\n",
              "       [0.1596722 ],\n",
              "       [0.15953553],\n",
              "       [0.15966627],\n",
              "       [0.15982823],\n",
              "       [0.15984097],\n",
              "       [0.15946   ],\n",
              "       [0.15966876],\n",
              "       [0.15945353],\n",
              "       [0.1596439 ],\n",
              "       [0.15952906],\n",
              "       [0.15983726],\n",
              "       [0.16055463],\n",
              "       [0.15987226],\n",
              "       [0.15981023],\n",
              "       [0.15982214],\n",
              "       [0.15951   ],\n",
              "       [0.15953414],\n",
              "       [0.15941662],\n",
              "       [0.15952303],\n",
              "       [0.15949877],\n",
              "       [0.15950775],\n",
              "       [0.16014482],\n",
              "       [0.16060841],\n",
              "       [0.15979388],\n",
              "       [0.15987937],\n",
              "       [0.15958261],\n",
              "       [0.16003367],\n",
              "       [0.15963228],\n",
              "       [0.15959595],\n",
              "       [0.1596973 ],\n",
              "       [0.159742  ],\n",
              "       [0.15952635],\n",
              "       [0.16042955],\n",
              "       [0.160377  ],\n",
              "       [0.15978305],\n",
              "       [0.16022342],\n",
              "       [0.15973434],\n",
              "       [0.16042091],\n",
              "       [0.15959679],\n",
              "       [0.1596348 ],\n",
              "       [0.1596565 ],\n",
              "       [0.15957083],\n",
              "       [0.15960878],\n",
              "       [0.15919363],\n",
              "       [0.15960273],\n",
              "       [0.15963739],\n",
              "       [0.15983535],\n",
              "       [0.1598593 ],\n",
              "       [0.15958545],\n",
              "       [0.15978774],\n",
              "       [0.1595768 ],\n",
              "       [0.15967554],\n",
              "       [0.15959947],\n",
              "       [0.15978977],\n",
              "       [0.15958145],\n",
              "       [0.16003129],\n",
              "       [0.15978014],\n",
              "       [0.1601034 ],\n",
              "       [0.16004723],\n",
              "       [0.15961795],\n",
              "       [0.1594528 ],\n",
              "       [0.15951411],\n",
              "       [0.15957396],\n",
              "       [0.15926595],\n",
              "       [0.15937139],\n",
              "       [0.1594393 ],\n",
              "       [0.15928654],\n",
              "       [0.1596908 ],\n",
              "       [0.15964398],\n",
              "       [0.15944481],\n",
              "       [0.1594728 ],\n",
              "       [0.15972105],\n",
              "       [0.15976797],\n",
              "       [0.15953177],\n",
              "       [0.15961298],\n",
              "       [0.15959994],\n",
              "       [0.15957463],\n",
              "       [0.15979072],\n",
              "       [0.1595123 ],\n",
              "       [0.15956126],\n",
              "       [0.15974298],\n",
              "       [0.15946905],\n",
              "       [0.15949924],\n",
              "       [0.15974268],\n",
              "       [0.1595805 ],\n",
              "       [0.15943037],\n",
              "       [0.15968537],\n",
              "       [0.16017249],\n",
              "       [0.16177735],\n",
              "       [0.15977181],\n",
              "       [0.15953293],\n",
              "       [0.1595937 ],\n",
              "       [0.15988772],\n",
              "       [0.15949386],\n",
              "       [0.15963276],\n",
              "       [0.15941744],\n",
              "       [0.15949468],\n",
              "       [0.15975927],\n",
              "       [0.15982139],\n",
              "       [0.15948296],\n",
              "       [0.15947291],\n",
              "       [0.15953293],\n",
              "       [0.1594375 ],\n",
              "       [0.15943623],\n",
              "       [0.15946195],\n",
              "       [0.15942243],\n",
              "       [0.1595063 ],\n",
              "       [0.1598419 ],\n",
              "       [0.1595772 ],\n",
              "       [0.1594566 ],\n",
              "       [0.15946124],\n",
              "       [0.15934925],\n",
              "       [0.15938208],\n",
              "       [0.1594718 ],\n",
              "       [0.15940565],\n",
              "       [0.1593486 ],\n",
              "       [0.15929358],\n",
              "       [0.15956372],\n",
              "       [0.15939572],\n",
              "       [0.1600352 ],\n",
              "       [0.15945585],\n",
              "       [0.15992256],\n",
              "       [0.1595681 ],\n",
              "       [0.15942474],\n",
              "       [0.15947804],\n",
              "       [0.1595087 ],\n",
              "       [0.15976313],\n",
              "       [0.15965456],\n",
              "       [0.15944713],\n",
              "       [0.15940692],\n",
              "       [0.15941535],\n",
              "       [0.15941289],\n",
              "       [0.15961635],\n",
              "       [0.15944561],\n",
              "       [0.15932909],\n",
              "       [0.15938796],\n",
              "       [0.15968543],\n",
              "       [0.15942483],\n",
              "       [0.15935904],\n",
              "       [0.15932673],\n",
              "       [0.15927763],\n",
              "       [0.15934616],\n",
              "       [0.15950207],\n",
              "       [0.15934598],\n",
              "       [0.15934113],\n",
              "       [0.15938635],\n",
              "       [0.1594168 ],\n",
              "       [0.15926588],\n",
              "       [0.1594381 ],\n",
              "       [0.15976903],\n",
              "       [0.16007312],\n",
              "       [0.16008201],\n",
              "       [0.15950343],\n",
              "       [0.15960622],\n",
              "       [0.16016093],\n",
              "       [0.15991223],\n",
              "       [0.15956669],\n",
              "       [0.15960433],\n",
              "       [0.15974115],\n",
              "       [0.15957198],\n",
              "       [0.15941699],\n",
              "       [0.16021292],\n",
              "       [0.15976815],\n",
              "       [0.15959668],\n",
              "       [0.15949288],\n",
              "       [0.15941362],\n",
              "       [0.1593954 ],\n",
              "       [0.15939583],\n",
              "       [0.15946588],\n",
              "       [0.15941903],\n",
              "       [0.15953147],\n",
              "       [0.15932211],\n",
              "       [0.15961772],\n",
              "       [0.15955436],\n",
              "       [0.15958796],\n",
              "       [0.15944356],\n",
              "       [0.15944827],\n",
              "       [0.16057625],\n",
              "       [0.16076678],\n",
              "       [0.15978362],\n",
              "       [0.15971532],\n",
              "       [0.15973176],\n",
              "       [0.16020243],\n",
              "       [0.15974152],\n",
              "       [0.15954314],\n",
              "       [0.15944865],\n",
              "       [0.15939246],\n",
              "       [0.15981664],\n",
              "       [0.15956374],\n",
              "       [0.15953955],\n",
              "       [0.1594699 ],\n",
              "       [0.15971449],\n",
              "       [0.15949439],\n",
              "       [0.1592667 ],\n",
              "       [0.15945657],\n",
              "       [0.1595231 ],\n",
              "       [0.15939495],\n",
              "       [0.1594441 ],\n",
              "       [0.15941004],\n",
              "       [0.15954274],\n",
              "       [0.15955092],\n",
              "       [0.15941916],\n",
              "       [0.1595144 ],\n",
              "       [0.15936024],\n",
              "       [0.15943974],\n",
              "       [0.15934397],\n",
              "       [0.1595783 ],\n",
              "       [0.15945457],\n",
              "       [0.15938589],\n",
              "       [0.15930587],\n",
              "       [0.15973982],\n",
              "       [0.15934318],\n",
              "       [0.15941171],\n",
              "       [0.1598148 ],\n",
              "       [0.16070598],\n",
              "       [0.15960023],\n",
              "       [0.1594303 ],\n",
              "       [0.15946439],\n",
              "       [0.1598365 ],\n",
              "       [0.15957515]], dtype=float32)"
            ]
          },
          "metadata": {},
          "execution_count": 81
        }
      ]
    },
    {
      "cell_type": "code",
      "source": [
        "#DENORMALISE for plotting\n",
        "trainPredict=scaler.inverse_transform(trainPredict)\n",
        "trainY=scaler.inverse_transform([trainY])\n",
        "testPredict=scaler.inverse_transform(testPredict)\n",
        "testY=scaler.inverse_transform([testY])"
      ],
      "metadata": {
        "id": "JueleBZGDTOE"
      },
      "execution_count": 63,
      "outputs": []
    },
    {
      "cell_type": "code",
      "source": [
        "#accuracy metric: rmse\n",
        "rmse_train=math.sqrt(mean_squared_error(trainY[0], trainPredict[:,0]))\n",
        "rmse_test=math.sqrt(mean_squared_error(testY[0], testPredict[:,0]))"
      ],
      "metadata": {
        "id": "4i4L_87tD4Ws"
      },
      "execution_count": 67,
      "outputs": []
    },
    {
      "cell_type": "code",
      "source": [
        "rmse_train"
      ],
      "metadata": {
        "colab": {
          "base_uri": "https://localhost:8080/"
        },
        "id": "4Zpzonr_FFVS",
        "outputId": "a301277e-7962-43a0-e399-e5da26fc3064"
      },
      "execution_count": 71,
      "outputs": [
        {
          "output_type": "execute_result",
          "data": {
            "text/plain": [
              "0.11901244980860537"
            ]
          },
          "metadata": {},
          "execution_count": 71
        }
      ]
    },
    {
      "cell_type": "code",
      "source": [
        "rmse_test"
      ],
      "metadata": {
        "colab": {
          "base_uri": "https://localhost:8080/"
        },
        "id": "TmVFb7qHFFdm",
        "outputId": "49306e67-86b4-4fb7-f18f-630b34e84993"
      },
      "execution_count": 72,
      "outputs": [
        {
          "output_type": "execute_result",
          "data": {
            "text/plain": [
              "0.1161512124797131"
            ]
          },
          "metadata": {},
          "execution_count": 72
        }
      ]
    },
    {
      "cell_type": "code",
      "source": [
        "# PREDICT FUTURE VALUES\n",
        "last_val = testPredict[-1]\n",
        "last_val_scaled = last_val/last_val\n",
        "next_val = model.predict(np.reshape(last_val_scaled, (1,1,1)))"
      ],
      "metadata": {
        "colab": {
          "base_uri": "https://localhost:8080/"
        },
        "id": "i46stdWEEg_f",
        "outputId": "056d7ec4-9f0a-4a65-c9a9-a133c10a460a"
      },
      "execution_count": 68,
      "outputs": [
        {
          "output_type": "stream",
          "name": "stdout",
          "text": [
            "1/1 [==============================] - 0s 30ms/step\n"
          ]
        }
      ]
    },
    {
      "cell_type": "code",
      "source": [
        "np.asscalar(last_val)"
      ],
      "metadata": {
        "colab": {
          "base_uri": "https://localhost:8080/"
        },
        "id": "2BO1KvhiE2zT",
        "outputId": "79f7e1b0-3d14-480d-b721-e94291f21b2d"
      },
      "execution_count": 69,
      "outputs": [
        {
          "output_type": "stream",
          "name": "stderr",
          "text": [
            "<ipython-input-69-ae9936113193>:1: DeprecationWarning: np.asscalar(a) is deprecated since NumPy v1.16, use a.item() instead\n",
            "  np.asscalar(last_val)\n"
          ]
        },
        {
          "output_type": "execute_result",
          "data": {
            "text/plain": [
              "0.15957514941692352"
            ]
          },
          "metadata": {},
          "execution_count": 69
        }
      ]
    },
    {
      "cell_type": "code",
      "source": [
        "np.asscalar(last_val*next_val)"
      ],
      "metadata": {
        "colab": {
          "base_uri": "https://localhost:8080/"
        },
        "id": "FKfZF165E0rH",
        "outputId": "ebcb18a6-b055-4de5-8a03-e915bec2668e"
      },
      "execution_count": 70,
      "outputs": [
        {
          "output_type": "stream",
          "name": "stderr",
          "text": [
            "<ipython-input-70-c744992bdb39>:1: DeprecationWarning: np.asscalar(a) is deprecated since NumPy v1.16, use a.item() instead\n",
            "  np.asscalar(last_val*next_val)\n"
          ]
        },
        {
          "output_type": "execute_result",
          "data": {
            "text/plain": [
              "0.027161652222275734"
            ]
          },
          "metadata": {},
          "execution_count": 70
        }
      ]
    },
    {
      "cell_type": "code",
      "source": [
        "# CREATING SIMILAR DATASET TO PLOT TRAINING PREDICTIONS\n",
        "trainPredictPlot = np.empty_like(avg)\n",
        "trainPredictPlot[:, :] = np.nan\n",
        "trainPredictPlot[step_size:len(trainPredict)+step_size, :] = trainPredict\n",
        "\n",
        "# CREATING SIMILAR DATASSET TO PLOT TEST PREDICTIONS\n",
        "testPredictPlot = np.empty_like(avg)\n",
        "testPredictPlot[:, :] = np.nan\n",
        "testPredictPlot[len(trainPredict)+(step_size*2)+1:len(avg)-1, :] = testPredict\n",
        "\n",
        "# DE-NORMALIZING MAIN DATASET \n",
        "avg = scaler.inverse_transform(avg)\n",
        "\n",
        "# PLOT OF MAIN OHLC VALUES, TRAIN PREDICTIONS AND TEST PREDICTIONS\n",
        "plt.figure(figsize=(20,10))\n",
        "plt.plot(avg, 'g', label = 'original dataset')\n",
        "plt.plot(trainPredictPlot, 'r', label = 'training set')\n",
        "plt.plot(testPredictPlot, 'b', label = 'predicted stock price/test set')\n",
        "plt.legend(loc = 'upper right')\n",
        "plt.xlabel('Time in Days')\n",
        "plt.ylabel('Value of Apple Stocks')\n",
        "plt.show()"
      ],
      "metadata": {
        "colab": {
          "base_uri": "https://localhost:8080/",
          "height": 606
        },
        "id": "DsiGFrOoFW1G",
        "outputId": "00aac319-2e1b-4dfd-cd02-62bfd8ba9b51"
      },
      "execution_count": 75,
      "outputs": [
        {
          "output_type": "display_data",
          "data": {
            "text/plain": [
              "<Figure size 1440x720 with 1 Axes>"
            ],
            "image/png": "[encoded data removed]"
          },
          "metadata": {
            "needs_background": "light"
          }
        }
      ]
    }
  ]
}